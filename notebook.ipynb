{
 "cells": [
  {
   "cell_type": "code",
   "execution_count": 1,
   "id": "7bf7ca8d",
   "metadata": {},
   "outputs": [],
   "source": [
    "import pandas as pd\n",
    "import numpy as np\n",
    "\n",
    "import seaborn as sns\n",
    "from matplotlib import pyplot as plt\n",
    "%matplotlib inline"
   ]
  },
  {
   "cell_type": "code",
   "execution_count": 2,
   "id": "cb41d2b8",
   "metadata": {},
   "outputs": [],
   "source": [
    "df_train_part = pd.read_csv('data/customer_conversion_traing_dataset .csv')\n",
    "df_test_part = pd.read_csv('data/customer_conversion_testing_dataset.csv')\n",
    "\n",
    "df = pd.concat([df_train_part,df_test_part])\n",
    "df.reset_index(drop=True, inplace=True)"
   ]
  },
  {
   "cell_type": "code",
   "execution_count": 3,
   "id": "a460c6f9",
   "metadata": {},
   "outputs": [
    {
     "data": {
      "text/html": [
       "<div>\n",
       "<style scoped>\n",
       "    .dataframe tbody tr th:only-of-type {\n",
       "        vertical-align: middle;\n",
       "    }\n",
       "\n",
       "    .dataframe tbody tr th {\n",
       "        vertical-align: top;\n",
       "    }\n",
       "\n",
       "    .dataframe thead th {\n",
       "        text-align: right;\n",
       "    }\n",
       "</style>\n",
       "<table border=\"1\" class=\"dataframe\">\n",
       "  <thead>\n",
       "    <tr style=\"text-align: right;\">\n",
       "      <th></th>\n",
       "      <th>0</th>\n",
       "      <th>1</th>\n",
       "      <th>2</th>\n",
       "      <th>3</th>\n",
       "      <th>4</th>\n",
       "    </tr>\n",
       "  </thead>\n",
       "  <tbody>\n",
       "    <tr>\n",
       "      <th>LeadID</th>\n",
       "      <td>1</td>\n",
       "      <td>2</td>\n",
       "      <td>3</td>\n",
       "      <td>4</td>\n",
       "      <td>5</td>\n",
       "    </tr>\n",
       "    <tr>\n",
       "      <th>Age</th>\n",
       "      <td>60</td>\n",
       "      <td>27</td>\n",
       "      <td>21</td>\n",
       "      <td>37</td>\n",
       "      <td>35</td>\n",
       "    </tr>\n",
       "    <tr>\n",
       "      <th>Gender</th>\n",
       "      <td>Female</td>\n",
       "      <td>Female</td>\n",
       "      <td>Female</td>\n",
       "      <td>Female</td>\n",
       "      <td>Male</td>\n",
       "    </tr>\n",
       "    <tr>\n",
       "      <th>Location</th>\n",
       "      <td>Faisalabad</td>\n",
       "      <td>Islamabad</td>\n",
       "      <td>Rawalpindi</td>\n",
       "      <td>Faisalabad</td>\n",
       "      <td>Karachi</td>\n",
       "    </tr>\n",
       "    <tr>\n",
       "      <th>LeadSource</th>\n",
       "      <td>Referral</td>\n",
       "      <td>Referral</td>\n",
       "      <td>Referral</td>\n",
       "      <td>Email</td>\n",
       "      <td>Referral</td>\n",
       "    </tr>\n",
       "    <tr>\n",
       "      <th>TimeSpent (minutes)</th>\n",
       "      <td>30</td>\n",
       "      <td>28</td>\n",
       "      <td>45</td>\n",
       "      <td>45</td>\n",
       "      <td>31</td>\n",
       "    </tr>\n",
       "    <tr>\n",
       "      <th>PagesViewed</th>\n",
       "      <td>13</td>\n",
       "      <td>4</td>\n",
       "      <td>10</td>\n",
       "      <td>15</td>\n",
       "      <td>11</td>\n",
       "    </tr>\n",
       "    <tr>\n",
       "      <th>LeadStatus</th>\n",
       "      <td>Warm</td>\n",
       "      <td>Hot</td>\n",
       "      <td>Warm</td>\n",
       "      <td>Warm</td>\n",
       "      <td>Cold</td>\n",
       "    </tr>\n",
       "    <tr>\n",
       "      <th>EmailSent</th>\n",
       "      <td>1</td>\n",
       "      <td>7</td>\n",
       "      <td>9</td>\n",
       "      <td>5</td>\n",
       "      <td>2</td>\n",
       "    </tr>\n",
       "    <tr>\n",
       "      <th>DeviceType</th>\n",
       "      <td>Desktop</td>\n",
       "      <td>Desktop</td>\n",
       "      <td>Tablet</td>\n",
       "      <td>Desktop</td>\n",
       "      <td>Tablet</td>\n",
       "    </tr>\n",
       "    <tr>\n",
       "      <th>ReferralSource</th>\n",
       "      <td>Google</td>\n",
       "      <td>Direct</td>\n",
       "      <td>Direct</td>\n",
       "      <td>ReferralSite</td>\n",
       "      <td>Google</td>\n",
       "    </tr>\n",
       "    <tr>\n",
       "      <th>FormSubmissions</th>\n",
       "      <td>4</td>\n",
       "      <td>2</td>\n",
       "      <td>4</td>\n",
       "      <td>1</td>\n",
       "      <td>4</td>\n",
       "    </tr>\n",
       "    <tr>\n",
       "      <th>Downloads</th>\n",
       "      <td>0</td>\n",
       "      <td>2</td>\n",
       "      <td>2</td>\n",
       "      <td>3</td>\n",
       "      <td>3</td>\n",
       "    </tr>\n",
       "    <tr>\n",
       "      <th>CTR_ProductPage</th>\n",
       "      <td>0.3</td>\n",
       "      <td>0.3</td>\n",
       "      <td>0.6</td>\n",
       "      <td>0.3</td>\n",
       "      <td>0.5</td>\n",
       "    </tr>\n",
       "    <tr>\n",
       "      <th>ResponseTime (hours)</th>\n",
       "      <td>7</td>\n",
       "      <td>13</td>\n",
       "      <td>10</td>\n",
       "      <td>11</td>\n",
       "      <td>9</td>\n",
       "    </tr>\n",
       "    <tr>\n",
       "      <th>FollowUpEmails</th>\n",
       "      <td>10</td>\n",
       "      <td>3</td>\n",
       "      <td>8</td>\n",
       "      <td>1</td>\n",
       "      <td>2</td>\n",
       "    </tr>\n",
       "    <tr>\n",
       "      <th>SocialMediaEngagement</th>\n",
       "      <td>195</td>\n",
       "      <td>103</td>\n",
       "      <td>33</td>\n",
       "      <td>189</td>\n",
       "      <td>83</td>\n",
       "    </tr>\n",
       "    <tr>\n",
       "      <th>PaymentHistory</th>\n",
       "      <td>No Payment</td>\n",
       "      <td>No Payment</td>\n",
       "      <td>No Payment</td>\n",
       "      <td>Good</td>\n",
       "      <td>No Payment</td>\n",
       "    </tr>\n",
       "    <tr>\n",
       "      <th>Conversion (Target)</th>\n",
       "      <td>0</td>\n",
       "      <td>0</td>\n",
       "      <td>0</td>\n",
       "      <td>0</td>\n",
       "      <td>0</td>\n",
       "    </tr>\n",
       "  </tbody>\n",
       "</table>\n",
       "</div>"
      ],
      "text/plain": [
       "                                0           1           2             3  \\\n",
       "LeadID                          1           2           3             4   \n",
       "Age                            60          27          21            37   \n",
       "Gender                     Female      Female      Female        Female   \n",
       "Location               Faisalabad   Islamabad  Rawalpindi    Faisalabad   \n",
       "LeadSource               Referral    Referral    Referral         Email   \n",
       "TimeSpent (minutes)            30          28          45            45   \n",
       "PagesViewed                    13           4          10            15   \n",
       "LeadStatus                   Warm         Hot        Warm          Warm   \n",
       "EmailSent                       1           7           9             5   \n",
       "DeviceType                Desktop     Desktop      Tablet       Desktop   \n",
       "ReferralSource             Google      Direct      Direct  ReferralSite   \n",
       "FormSubmissions                 4           2           4             1   \n",
       "Downloads                       0           2           2             3   \n",
       "CTR_ProductPage               0.3         0.3         0.6           0.3   \n",
       "ResponseTime (hours)            7          13          10            11   \n",
       "FollowUpEmails                 10           3           8             1   \n",
       "SocialMediaEngagement         195         103          33           189   \n",
       "PaymentHistory         No Payment  No Payment  No Payment          Good   \n",
       "Conversion (Target)             0           0           0             0   \n",
       "\n",
       "                                4  \n",
       "LeadID                          5  \n",
       "Age                            35  \n",
       "Gender                       Male  \n",
       "Location                  Karachi  \n",
       "LeadSource               Referral  \n",
       "TimeSpent (minutes)            31  \n",
       "PagesViewed                    11  \n",
       "LeadStatus                   Cold  \n",
       "EmailSent                       2  \n",
       "DeviceType                 Tablet  \n",
       "ReferralSource             Google  \n",
       "FormSubmissions                 4  \n",
       "Downloads                       3  \n",
       "CTR_ProductPage               0.5  \n",
       "ResponseTime (hours)            9  \n",
       "FollowUpEmails                  2  \n",
       "SocialMediaEngagement          83  \n",
       "PaymentHistory         No Payment  \n",
       "Conversion (Target)             0  "
      ]
     },
     "execution_count": 3,
     "metadata": {},
     "output_type": "execute_result"
    }
   ],
   "source": [
    "df.head().T"
   ]
  },
  {
   "cell_type": "code",
   "execution_count": 4,
   "id": "310a75ae",
   "metadata": {},
   "outputs": [
    {
     "name": "stdout",
     "output_type": "stream",
     "text": [
      "<class 'pandas.core.frame.DataFrame'>\n",
      "RangeIndex: 126145 entries, 0 to 126144\n",
      "Data columns (total 19 columns):\n",
      " #   Column                 Non-Null Count   Dtype  \n",
      "---  ------                 --------------   -----  \n",
      " 0   LeadID                 126145 non-null  int64  \n",
      " 1   Age                    126145 non-null  int64  \n",
      " 2   Gender                 126145 non-null  object \n",
      " 3   Location               126145 non-null  object \n",
      " 4   LeadSource             126145 non-null  object \n",
      " 5   TimeSpent (minutes)    126145 non-null  int64  \n",
      " 6   PagesViewed            126145 non-null  int64  \n",
      " 7   LeadStatus             126145 non-null  object \n",
      " 8   EmailSent              126145 non-null  int64  \n",
      " 9   DeviceType             126145 non-null  object \n",
      " 10  ReferralSource         126145 non-null  object \n",
      " 11  FormSubmissions        126145 non-null  int64  \n",
      " 12  Downloads              126145 non-null  int64  \n",
      " 13  CTR_ProductPage        126145 non-null  float64\n",
      " 14  ResponseTime (hours)   126145 non-null  int64  \n",
      " 15  FollowUpEmails         126145 non-null  int64  \n",
      " 16  SocialMediaEngagement  126145 non-null  int64  \n",
      " 17  PaymentHistory         126145 non-null  object \n",
      " 18  Conversion (Target)    126145 non-null  int64  \n",
      "dtypes: float64(1), int64(11), object(7)\n",
      "memory usage: 18.3+ MB\n"
     ]
    }
   ],
   "source": [
    "df.info()"
   ]
  },
  {
   "cell_type": "code",
   "execution_count": 5,
   "id": "a42f0dd6",
   "metadata": {},
   "outputs": [
    {
     "data": {
      "text/plain": [
       "LeadID                   0\n",
       "Age                      0\n",
       "Gender                   0\n",
       "Location                 0\n",
       "LeadSource               0\n",
       "TimeSpent (minutes)      0\n",
       "PagesViewed              0\n",
       "LeadStatus               0\n",
       "EmailSent                0\n",
       "DeviceType               0\n",
       "ReferralSource           0\n",
       "FormSubmissions          0\n",
       "Downloads                0\n",
       "CTR_ProductPage          0\n",
       "ResponseTime (hours)     0\n",
       "FollowUpEmails           0\n",
       "SocialMediaEngagement    0\n",
       "PaymentHistory           0\n",
       "Conversion (Target)      0\n",
       "dtype: int64"
      ]
     },
     "execution_count": 5,
     "metadata": {},
     "output_type": "execute_result"
    }
   ],
   "source": [
    "df.isnull().sum()"
   ]
  },
  {
   "cell_type": "code",
   "execution_count": 6,
   "id": "572b8d43",
   "metadata": {},
   "outputs": [],
   "source": [
    "categorical = ['Gender','Location','LeadSource','LeadStatus','DeviceType','ReferralSource','PaymentHistory']\n",
    "numerical = ['Age', 'TimeSpent (minutes)','PagesViewed','EmailSent','FormSubmissions',\n",
    "             'Downloads','CTR_ProductPage','ResponseTime (hours)','FollowUpEmails','SocialMediaEngagement']      "
   ]
  },
  {
   "cell_type": "code",
   "execution_count": 7,
   "id": "369d68bd",
   "metadata": {},
   "outputs": [
    {
     "data": {
      "text/html": [
       "<div>\n",
       "<style scoped>\n",
       "    .dataframe tbody tr th:only-of-type {\n",
       "        vertical-align: middle;\n",
       "    }\n",
       "\n",
       "    .dataframe tbody tr th {\n",
       "        vertical-align: top;\n",
       "    }\n",
       "\n",
       "    .dataframe thead th {\n",
       "        text-align: right;\n",
       "    }\n",
       "</style>\n",
       "<table border=\"1\" class=\"dataframe\">\n",
       "  <thead>\n",
       "    <tr style=\"text-align: right;\">\n",
       "      <th></th>\n",
       "      <th>Age</th>\n",
       "      <th>TimeSpent (minutes)</th>\n",
       "      <th>PagesViewed</th>\n",
       "      <th>EmailSent</th>\n",
       "      <th>FormSubmissions</th>\n",
       "      <th>Downloads</th>\n",
       "      <th>CTR_ProductPage</th>\n",
       "      <th>ResponseTime (hours)</th>\n",
       "      <th>FollowUpEmails</th>\n",
       "      <th>SocialMediaEngagement</th>\n",
       "    </tr>\n",
       "  </thead>\n",
       "  <tbody>\n",
       "    <tr>\n",
       "      <th>count</th>\n",
       "      <td>126145.000000</td>\n",
       "      <td>126145.000000</td>\n",
       "      <td>126145.000000</td>\n",
       "      <td>126145.000000</td>\n",
       "      <td>126145.000000</td>\n",
       "      <td>126145.000000</td>\n",
       "      <td>126145.000000</td>\n",
       "      <td>126145.000000</td>\n",
       "      <td>126145.000000</td>\n",
       "      <td>126145.000000</td>\n",
       "    </tr>\n",
       "    <tr>\n",
       "      <th>mean</th>\n",
       "      <td>39.985469</td>\n",
       "      <td>32.507741</td>\n",
       "      <td>8.499084</td>\n",
       "      <td>4.992786</td>\n",
       "      <td>2.501621</td>\n",
       "      <td>1.498347</td>\n",
       "      <td>0.449220</td>\n",
       "      <td>12.515454</td>\n",
       "      <td>4.991343</td>\n",
       "      <td>110.008252</td>\n",
       "    </tr>\n",
       "    <tr>\n",
       "      <th>std</th>\n",
       "      <td>11.852607</td>\n",
       "      <td>16.160227</td>\n",
       "      <td>4.028861</td>\n",
       "      <td>3.169346</td>\n",
       "      <td>1.709068</td>\n",
       "      <td>1.118019</td>\n",
       "      <td>0.206202</td>\n",
       "      <td>6.932374</td>\n",
       "      <td>3.163592</td>\n",
       "      <td>52.237312</td>\n",
       "    </tr>\n",
       "    <tr>\n",
       "      <th>min</th>\n",
       "      <td>20.000000</td>\n",
       "      <td>5.000000</td>\n",
       "      <td>2.000000</td>\n",
       "      <td>0.000000</td>\n",
       "      <td>0.000000</td>\n",
       "      <td>0.000000</td>\n",
       "      <td>0.100000</td>\n",
       "      <td>1.000000</td>\n",
       "      <td>0.000000</td>\n",
       "      <td>20.000000</td>\n",
       "    </tr>\n",
       "    <tr>\n",
       "      <th>25%</th>\n",
       "      <td>30.000000</td>\n",
       "      <td>18.000000</td>\n",
       "      <td>5.000000</td>\n",
       "      <td>2.000000</td>\n",
       "      <td>1.000000</td>\n",
       "      <td>0.000000</td>\n",
       "      <td>0.300000</td>\n",
       "      <td>7.000000</td>\n",
       "      <td>2.000000</td>\n",
       "      <td>65.000000</td>\n",
       "    </tr>\n",
       "    <tr>\n",
       "      <th>50%</th>\n",
       "      <td>40.000000</td>\n",
       "      <td>33.000000</td>\n",
       "      <td>8.000000</td>\n",
       "      <td>5.000000</td>\n",
       "      <td>3.000000</td>\n",
       "      <td>2.000000</td>\n",
       "      <td>0.400000</td>\n",
       "      <td>13.000000</td>\n",
       "      <td>5.000000</td>\n",
       "      <td>110.000000</td>\n",
       "    </tr>\n",
       "    <tr>\n",
       "      <th>75%</th>\n",
       "      <td>50.000000</td>\n",
       "      <td>47.000000</td>\n",
       "      <td>12.000000</td>\n",
       "      <td>8.000000</td>\n",
       "      <td>4.000000</td>\n",
       "      <td>2.000000</td>\n",
       "      <td>0.600000</td>\n",
       "      <td>19.000000</td>\n",
       "      <td>8.000000</td>\n",
       "      <td>155.000000</td>\n",
       "    </tr>\n",
       "    <tr>\n",
       "      <th>max</th>\n",
       "      <td>60.000000</td>\n",
       "      <td>60.000000</td>\n",
       "      <td>15.000000</td>\n",
       "      <td>10.000000</td>\n",
       "      <td>5.000000</td>\n",
       "      <td>3.000000</td>\n",
       "      <td>0.800000</td>\n",
       "      <td>24.000000</td>\n",
       "      <td>10.000000</td>\n",
       "      <td>200.000000</td>\n",
       "    </tr>\n",
       "  </tbody>\n",
       "</table>\n",
       "</div>"
      ],
      "text/plain": [
       "                 Age  TimeSpent (minutes)    PagesViewed      EmailSent  \\\n",
       "count  126145.000000        126145.000000  126145.000000  126145.000000   \n",
       "mean       39.985469            32.507741       8.499084       4.992786   \n",
       "std        11.852607            16.160227       4.028861       3.169346   \n",
       "min        20.000000             5.000000       2.000000       0.000000   \n",
       "25%        30.000000            18.000000       5.000000       2.000000   \n",
       "50%        40.000000            33.000000       8.000000       5.000000   \n",
       "75%        50.000000            47.000000      12.000000       8.000000   \n",
       "max        60.000000            60.000000      15.000000      10.000000   \n",
       "\n",
       "       FormSubmissions      Downloads  CTR_ProductPage  ResponseTime (hours)  \\\n",
       "count    126145.000000  126145.000000    126145.000000         126145.000000   \n",
       "mean          2.501621       1.498347         0.449220             12.515454   \n",
       "std           1.709068       1.118019         0.206202              6.932374   \n",
       "min           0.000000       0.000000         0.100000              1.000000   \n",
       "25%           1.000000       0.000000         0.300000              7.000000   \n",
       "50%           3.000000       2.000000         0.400000             13.000000   \n",
       "75%           4.000000       2.000000         0.600000             19.000000   \n",
       "max           5.000000       3.000000         0.800000             24.000000   \n",
       "\n",
       "       FollowUpEmails  SocialMediaEngagement  \n",
       "count   126145.000000          126145.000000  \n",
       "mean         4.991343             110.008252  \n",
       "std          3.163592              52.237312  \n",
       "min          0.000000              20.000000  \n",
       "25%          2.000000              65.000000  \n",
       "50%          5.000000             110.000000  \n",
       "75%          8.000000             155.000000  \n",
       "max         10.000000             200.000000  "
      ]
     },
     "execution_count": 7,
     "metadata": {},
     "output_type": "execute_result"
    }
   ],
   "source": [
    "df[numerical].describe()"
   ]
  },
  {
   "cell_type": "code",
   "execution_count": 13,
   "id": "4b0ea531",
   "metadata": {},
   "outputs": [
    {
     "data": {
      "image/png": "[encoded data removed]",
      "text/plain": [
       "<Figure size 800x500 with 9 Axes>"
      ]
     },
     "metadata": {},
     "output_type": "display_data"
    }
   ],
   "source": [
    "fig, axs = plt.subplots(3, 3, figsize=(8,5))\n",
    "for col, ax in zip(df[numerical].columns, axs.ravel()):\n",
    "    if df[numerical][col].dtype == float:\n",
    "        ax.hist(df[numerical][col], bins=100, color='red')\n",
    "    else: #int\n",
    "        vc = df[numerical][col].value_counts()\n",
    "        ax.bar(vc.index, vc, color='red')\n",
    "    ax.set_xlabel(col)\n",
    "plt.tight_layout()\n",
    "plt.suptitle('Feature distributions', y=1.02, fontsize=16, fontweight = \"bold\")\n",
    "plt.show()"
   ]
  },
  {
   "cell_type": "code",
   "execution_count": 14,
   "id": "6cf61865",
   "metadata": {},
   "outputs": [
    {
     "data": {
      "text/plain": [
       "Gender             2\n",
       "Location          10\n",
       "LeadSource         4\n",
       "LeadStatus         3\n",
       "DeviceType         3\n",
       "ReferralSource     5\n",
       "PaymentHistory     2\n",
       "dtype: int64"
      ]
     },
     "execution_count": 14,
     "metadata": {},
     "output_type": "execute_result"
    }
   ],
   "source": [
    "df[categorical].nunique()"
   ]
  },
  {
   "cell_type": "code",
   "execution_count": 15,
   "id": "9f4741cc",
   "metadata": {},
   "outputs": [],
   "source": [
    "from IPython.display import display"
   ]
  },
  {
   "cell_type": "code",
   "execution_count": 16,
   "id": "82d19b6a",
   "metadata": {},
   "outputs": [
    {
     "data": {
      "text/plain": [
       "0.016330413413135677"
      ]
     },
     "execution_count": 16,
     "metadata": {},
     "output_type": "execute_result"
    }
   ],
   "source": [
    "global_mean = df['Conversion (Target)'].mean()\n",
    "global_mean"
   ]
  },
  {
   "cell_type": "code",
   "execution_count": 17,
   "id": "da75dda0",
   "metadata": {},
   "outputs": [
    {
     "data": {
      "text/html": [
       "<div>\n",
       "<style scoped>\n",
       "    .dataframe tbody tr th:only-of-type {\n",
       "        vertical-align: middle;\n",
       "    }\n",
       "\n",
       "    .dataframe tbody tr th {\n",
       "        vertical-align: top;\n",
       "    }\n",
       "\n",
       "    .dataframe thead th {\n",
       "        text-align: right;\n",
       "    }\n",
       "</style>\n",
       "<table border=\"1\" class=\"dataframe\">\n",
       "  <thead>\n",
       "    <tr style=\"text-align: right;\">\n",
       "      <th></th>\n",
       "      <th>mean</th>\n",
       "      <th>diff</th>\n",
       "      <th>risk</th>\n",
       "    </tr>\n",
       "    <tr>\n",
       "      <th>Gender</th>\n",
       "      <th></th>\n",
       "      <th></th>\n",
       "      <th></th>\n",
       "    </tr>\n",
       "  </thead>\n",
       "  <tbody>\n",
       "    <tr>\n",
       "      <th>Female</th>\n",
       "      <td>0.015821</td>\n",
       "      <td>-0.000509</td>\n",
       "      <td>0.96882</td>\n",
       "    </tr>\n",
       "    <tr>\n",
       "      <th>Male</th>\n",
       "      <td>0.016841</td>\n",
       "      <td>0.000510</td>\n",
       "      <td>1.03125</td>\n",
       "    </tr>\n",
       "  </tbody>\n",
       "</table>\n",
       "</div>"
      ],
      "text/plain": [
       "            mean      diff     risk\n",
       "Gender                             \n",
       "Female  0.015821 -0.000509  0.96882\n",
       "Male    0.016841  0.000510  1.03125"
      ]
     },
     "metadata": {},
     "output_type": "display_data"
    },
    {
     "data": {
      "text/html": [
       "<div>\n",
       "<style scoped>\n",
       "    .dataframe tbody tr th:only-of-type {\n",
       "        vertical-align: middle;\n",
       "    }\n",
       "\n",
       "    .dataframe tbody tr th {\n",
       "        vertical-align: top;\n",
       "    }\n",
       "\n",
       "    .dataframe thead th {\n",
       "        text-align: right;\n",
       "    }\n",
       "</style>\n",
       "<table border=\"1\" class=\"dataframe\">\n",
       "  <thead>\n",
       "    <tr style=\"text-align: right;\">\n",
       "      <th></th>\n",
       "      <th>mean</th>\n",
       "      <th>diff</th>\n",
       "      <th>risk</th>\n",
       "    </tr>\n",
       "    <tr>\n",
       "      <th>Location</th>\n",
       "      <th></th>\n",
       "      <th></th>\n",
       "      <th></th>\n",
       "    </tr>\n",
       "  </thead>\n",
       "  <tbody>\n",
       "    <tr>\n",
       "      <th>Faisalabad</th>\n",
       "      <td>0.000000</td>\n",
       "      <td>-0.016330</td>\n",
       "      <td>0.000000</td>\n",
       "    </tr>\n",
       "    <tr>\n",
       "      <th>Gujranwala</th>\n",
       "      <td>0.000000</td>\n",
       "      <td>-0.016330</td>\n",
       "      <td>0.000000</td>\n",
       "    </tr>\n",
       "    <tr>\n",
       "      <th>Islamabad</th>\n",
       "      <td>0.053922</td>\n",
       "      <td>0.037591</td>\n",
       "      <td>3.301911</td>\n",
       "    </tr>\n",
       "    <tr>\n",
       "      <th>Karachi</th>\n",
       "      <td>0.054658</td>\n",
       "      <td>0.038328</td>\n",
       "      <td>3.347024</td>\n",
       "    </tr>\n",
       "    <tr>\n",
       "      <th>Lahore</th>\n",
       "      <td>0.054162</td>\n",
       "      <td>0.037832</td>\n",
       "      <td>3.316640</td>\n",
       "    </tr>\n",
       "    <tr>\n",
       "      <th>Multan</th>\n",
       "      <td>0.000000</td>\n",
       "      <td>-0.016330</td>\n",
       "      <td>0.000000</td>\n",
       "    </tr>\n",
       "    <tr>\n",
       "      <th>Peshawar</th>\n",
       "      <td>0.000000</td>\n",
       "      <td>-0.016330</td>\n",
       "      <td>0.000000</td>\n",
       "    </tr>\n",
       "    <tr>\n",
       "      <th>Quetta</th>\n",
       "      <td>0.000000</td>\n",
       "      <td>-0.016330</td>\n",
       "      <td>0.000000</td>\n",
       "    </tr>\n",
       "    <tr>\n",
       "      <th>Rawalpindi</th>\n",
       "      <td>0.000000</td>\n",
       "      <td>-0.016330</td>\n",
       "      <td>0.000000</td>\n",
       "    </tr>\n",
       "    <tr>\n",
       "      <th>Sialkot</th>\n",
       "      <td>0.000000</td>\n",
       "      <td>-0.016330</td>\n",
       "      <td>0.000000</td>\n",
       "    </tr>\n",
       "  </tbody>\n",
       "</table>\n",
       "</div>"
      ],
      "text/plain": [
       "                mean      diff      risk\n",
       "Location                                \n",
       "Faisalabad  0.000000 -0.016330  0.000000\n",
       "Gujranwala  0.000000 -0.016330  0.000000\n",
       "Islamabad   0.053922  0.037591  3.301911\n",
       "Karachi     0.054658  0.038328  3.347024\n",
       "Lahore      0.054162  0.037832  3.316640\n",
       "Multan      0.000000 -0.016330  0.000000\n",
       "Peshawar    0.000000 -0.016330  0.000000\n",
       "Quetta      0.000000 -0.016330  0.000000\n",
       "Rawalpindi  0.000000 -0.016330  0.000000\n",
       "Sialkot     0.000000 -0.016330  0.000000"
      ]
     },
     "metadata": {},
     "output_type": "display_data"
    },
    {
     "data": {
      "text/html": [
       "<div>\n",
       "<style scoped>\n",
       "    .dataframe tbody tr th:only-of-type {\n",
       "        vertical-align: middle;\n",
       "    }\n",
       "\n",
       "    .dataframe tbody tr th {\n",
       "        vertical-align: top;\n",
       "    }\n",
       "\n",
       "    .dataframe thead th {\n",
       "        text-align: right;\n",
       "    }\n",
       "</style>\n",
       "<table border=\"1\" class=\"dataframe\">\n",
       "  <thead>\n",
       "    <tr style=\"text-align: right;\">\n",
       "      <th></th>\n",
       "      <th>mean</th>\n",
       "      <th>diff</th>\n",
       "      <th>risk</th>\n",
       "    </tr>\n",
       "    <tr>\n",
       "      <th>LeadSource</th>\n",
       "      <th></th>\n",
       "      <th></th>\n",
       "      <th></th>\n",
       "    </tr>\n",
       "  </thead>\n",
       "  <tbody>\n",
       "    <tr>\n",
       "      <th>Email</th>\n",
       "      <td>0.017188</td>\n",
       "      <td>0.000858</td>\n",
       "      <td>1.052530</td>\n",
       "    </tr>\n",
       "    <tr>\n",
       "      <th>Organic</th>\n",
       "      <td>0.017109</td>\n",
       "      <td>0.000778</td>\n",
       "      <td>1.047648</td>\n",
       "    </tr>\n",
       "    <tr>\n",
       "      <th>Referral</th>\n",
       "      <td>0.015384</td>\n",
       "      <td>-0.000947</td>\n",
       "      <td>0.942023</td>\n",
       "    </tr>\n",
       "    <tr>\n",
       "      <th>Social Media</th>\n",
       "      <td>0.015630</td>\n",
       "      <td>-0.000700</td>\n",
       "      <td>0.957106</td>\n",
       "    </tr>\n",
       "  </tbody>\n",
       "</table>\n",
       "</div>"
      ],
      "text/plain": [
       "                  mean      diff      risk\n",
       "LeadSource                                \n",
       "Email         0.017188  0.000858  1.052530\n",
       "Organic       0.017109  0.000778  1.047648\n",
       "Referral      0.015384 -0.000947  0.942023\n",
       "Social Media  0.015630 -0.000700  0.957106"
      ]
     },
     "metadata": {},
     "output_type": "display_data"
    },
    {
     "data": {
      "text/html": [
       "<div>\n",
       "<style scoped>\n",
       "    .dataframe tbody tr th:only-of-type {\n",
       "        vertical-align: middle;\n",
       "    }\n",
       "\n",
       "    .dataframe tbody tr th {\n",
       "        vertical-align: top;\n",
       "    }\n",
       "\n",
       "    .dataframe thead th {\n",
       "        text-align: right;\n",
       "    }\n",
       "</style>\n",
       "<table border=\"1\" class=\"dataframe\">\n",
       "  <thead>\n",
       "    <tr style=\"text-align: right;\">\n",
       "      <th></th>\n",
       "      <th>mean</th>\n",
       "      <th>diff</th>\n",
       "      <th>risk</th>\n",
       "    </tr>\n",
       "    <tr>\n",
       "      <th>LeadStatus</th>\n",
       "      <th></th>\n",
       "      <th></th>\n",
       "      <th></th>\n",
       "    </tr>\n",
       "  </thead>\n",
       "  <tbody>\n",
       "    <tr>\n",
       "      <th>Cold</th>\n",
       "      <td>0.010220</td>\n",
       "      <td>-0.006110</td>\n",
       "      <td>0.625832</td>\n",
       "    </tr>\n",
       "    <tr>\n",
       "      <th>Hot</th>\n",
       "      <td>0.028961</td>\n",
       "      <td>0.012630</td>\n",
       "      <td>1.773421</td>\n",
       "    </tr>\n",
       "    <tr>\n",
       "      <th>Warm</th>\n",
       "      <td>0.009806</td>\n",
       "      <td>-0.006524</td>\n",
       "      <td>0.600490</td>\n",
       "    </tr>\n",
       "  </tbody>\n",
       "</table>\n",
       "</div>"
      ],
      "text/plain": [
       "                mean      diff      risk\n",
       "LeadStatus                              \n",
       "Cold        0.010220 -0.006110  0.625832\n",
       "Hot         0.028961  0.012630  1.773421\n",
       "Warm        0.009806 -0.006524  0.600490"
      ]
     },
     "metadata": {},
     "output_type": "display_data"
    },
    {
     "data": {
      "text/html": [
       "<div>\n",
       "<style scoped>\n",
       "    .dataframe tbody tr th:only-of-type {\n",
       "        vertical-align: middle;\n",
       "    }\n",
       "\n",
       "    .dataframe tbody tr th {\n",
       "        vertical-align: top;\n",
       "    }\n",
       "\n",
       "    .dataframe thead th {\n",
       "        text-align: right;\n",
       "    }\n",
       "</style>\n",
       "<table border=\"1\" class=\"dataframe\">\n",
       "  <thead>\n",
       "    <tr style=\"text-align: right;\">\n",
       "      <th></th>\n",
       "      <th>mean</th>\n",
       "      <th>diff</th>\n",
       "      <th>risk</th>\n",
       "    </tr>\n",
       "    <tr>\n",
       "      <th>DeviceType</th>\n",
       "      <th></th>\n",
       "      <th></th>\n",
       "      <th></th>\n",
       "    </tr>\n",
       "  </thead>\n",
       "  <tbody>\n",
       "    <tr>\n",
       "      <th>Desktop</th>\n",
       "      <td>0.017043</td>\n",
       "      <td>0.000712</td>\n",
       "      <td>1.043620</td>\n",
       "    </tr>\n",
       "    <tr>\n",
       "      <th>Mobile</th>\n",
       "      <td>0.015305</td>\n",
       "      <td>-0.001025</td>\n",
       "      <td>0.937204</td>\n",
       "    </tr>\n",
       "    <tr>\n",
       "      <th>Tablet</th>\n",
       "      <td>0.016659</td>\n",
       "      <td>0.000329</td>\n",
       "      <td>1.020127</td>\n",
       "    </tr>\n",
       "  </tbody>\n",
       "</table>\n",
       "</div>"
      ],
      "text/plain": [
       "                mean      diff      risk\n",
       "DeviceType                              \n",
       "Desktop     0.017043  0.000712  1.043620\n",
       "Mobile      0.015305 -0.001025  0.937204\n",
       "Tablet      0.016659  0.000329  1.020127"
      ]
     },
     "metadata": {},
     "output_type": "display_data"
    },
    {
     "data": {
      "text/html": [
       "<div>\n",
       "<style scoped>\n",
       "    .dataframe tbody tr th:only-of-type {\n",
       "        vertical-align: middle;\n",
       "    }\n",
       "\n",
       "    .dataframe tbody tr th {\n",
       "        vertical-align: top;\n",
       "    }\n",
       "\n",
       "    .dataframe thead th {\n",
       "        text-align: right;\n",
       "    }\n",
       "</style>\n",
       "<table border=\"1\" class=\"dataframe\">\n",
       "  <thead>\n",
       "    <tr style=\"text-align: right;\">\n",
       "      <th></th>\n",
       "      <th>mean</th>\n",
       "      <th>diff</th>\n",
       "      <th>risk</th>\n",
       "    </tr>\n",
       "    <tr>\n",
       "      <th>ReferralSource</th>\n",
       "      <th></th>\n",
       "      <th></th>\n",
       "      <th></th>\n",
       "    </tr>\n",
       "  </thead>\n",
       "  <tbody>\n",
       "    <tr>\n",
       "      <th>Direct</th>\n",
       "      <td>0.015612</td>\n",
       "      <td>-0.000718</td>\n",
       "      <td>0.956008</td>\n",
       "    </tr>\n",
       "    <tr>\n",
       "      <th>Facebook</th>\n",
       "      <td>0.016123</td>\n",
       "      <td>-0.000207</td>\n",
       "      <td>0.987317</td>\n",
       "    </tr>\n",
       "    <tr>\n",
       "      <th>Google</th>\n",
       "      <td>0.016746</td>\n",
       "      <td>0.000415</td>\n",
       "      <td>1.025421</td>\n",
       "    </tr>\n",
       "    <tr>\n",
       "      <th>ReferralSite</th>\n",
       "      <td>0.016472</td>\n",
       "      <td>0.000142</td>\n",
       "      <td>1.008681</td>\n",
       "    </tr>\n",
       "    <tr>\n",
       "      <th>Twitter</th>\n",
       "      <td>0.016701</td>\n",
       "      <td>0.000371</td>\n",
       "      <td>1.022691</td>\n",
       "    </tr>\n",
       "  </tbody>\n",
       "</table>\n",
       "</div>"
      ],
      "text/plain": [
       "                    mean      diff      risk\n",
       "ReferralSource                              \n",
       "Direct          0.015612 -0.000718  0.956008\n",
       "Facebook        0.016123 -0.000207  0.987317\n",
       "Google          0.016746  0.000415  1.025421\n",
       "ReferralSite    0.016472  0.000142  1.008681\n",
       "Twitter         0.016701  0.000371  1.022691"
      ]
     },
     "metadata": {},
     "output_type": "display_data"
    },
    {
     "data": {
      "text/html": [
       "<div>\n",
       "<style scoped>\n",
       "    .dataframe tbody tr th:only-of-type {\n",
       "        vertical-align: middle;\n",
       "    }\n",
       "\n",
       "    .dataframe tbody tr th {\n",
       "        vertical-align: top;\n",
       "    }\n",
       "\n",
       "    .dataframe thead th {\n",
       "        text-align: right;\n",
       "    }\n",
       "</style>\n",
       "<table border=\"1\" class=\"dataframe\">\n",
       "  <thead>\n",
       "    <tr style=\"text-align: right;\">\n",
       "      <th></th>\n",
       "      <th>mean</th>\n",
       "      <th>diff</th>\n",
       "      <th>risk</th>\n",
       "    </tr>\n",
       "    <tr>\n",
       "      <th>PaymentHistory</th>\n",
       "      <th></th>\n",
       "      <th></th>\n",
       "      <th></th>\n",
       "    </tr>\n",
       "  </thead>\n",
       "  <tbody>\n",
       "    <tr>\n",
       "      <th>Good</th>\n",
       "      <td>0.015808</td>\n",
       "      <td>-0.000523</td>\n",
       "      <td>0.968004</td>\n",
       "    </tr>\n",
       "    <tr>\n",
       "      <th>No Payment</th>\n",
       "      <td>0.016854</td>\n",
       "      <td>0.000524</td>\n",
       "      <td>1.032058</td>\n",
       "    </tr>\n",
       "  </tbody>\n",
       "</table>\n",
       "</div>"
      ],
      "text/plain": [
       "                    mean      diff      risk\n",
       "PaymentHistory                              \n",
       "Good            0.015808 -0.000523  0.968004\n",
       "No Payment      0.016854  0.000524  1.032058"
      ]
     },
     "metadata": {},
     "output_type": "display_data"
    }
   ],
   "source": [
    "for col in categorical:\n",
    "    df_group = df.groupby(by=col)['Conversion (Target)'].agg(['mean'])\n",
    "    df_group['diff'] = df_group['mean'] - global_mean\n",
    "    df_group['risk'] = df_group['mean'] / global_mean\n",
    "    display(df_group)"
   ]
  },
  {
   "cell_type": "code",
   "execution_count": 18,
   "id": "b38bbd21",
   "metadata": {},
   "outputs": [],
   "source": [
    "from sklearn.metrics import mutual_info_score"
   ]
  },
  {
   "cell_type": "code",
   "execution_count": 19,
   "id": "dc2aed7c",
   "metadata": {},
   "outputs": [
    {
     "data": {
      "text/html": [
       "<div>\n",
       "<style scoped>\n",
       "    .dataframe tbody tr th:only-of-type {\n",
       "        vertical-align: middle;\n",
       "    }\n",
       "\n",
       "    .dataframe tbody tr th {\n",
       "        vertical-align: top;\n",
       "    }\n",
       "\n",
       "    .dataframe thead th {\n",
       "        text-align: right;\n",
       "    }\n",
       "</style>\n",
       "<table border=\"1\" class=\"dataframe\">\n",
       "  <thead>\n",
       "    <tr style=\"text-align: right;\">\n",
       "      <th></th>\n",
       "      <th>MI</th>\n",
       "    </tr>\n",
       "  </thead>\n",
       "  <tbody>\n",
       "    <tr>\n",
       "      <th>Location</th>\n",
       "      <td>0.019922</td>\n",
       "    </tr>\n",
       "    <tr>\n",
       "      <th>LeadStatus</th>\n",
       "      <td>0.002309</td>\n",
       "    </tr>\n",
       "    <tr>\n",
       "      <th>LeadSource</th>\n",
       "      <td>0.000021</td>\n",
       "    </tr>\n",
       "    <tr>\n",
       "      <th>DeviceType</th>\n",
       "      <td>0.000018</td>\n",
       "    </tr>\n",
       "    <tr>\n",
       "      <th>PaymentHistory</th>\n",
       "      <td>0.000009</td>\n",
       "    </tr>\n",
       "    <tr>\n",
       "      <th>Gender</th>\n",
       "      <td>0.000008</td>\n",
       "    </tr>\n",
       "    <tr>\n",
       "      <th>ReferralSource</th>\n",
       "      <td>0.000006</td>\n",
       "    </tr>\n",
       "  </tbody>\n",
       "</table>\n",
       "</div>"
      ],
      "text/plain": [
       "                      MI\n",
       "Location        0.019922\n",
       "LeadStatus      0.002309\n",
       "LeadSource      0.000021\n",
       "DeviceType      0.000018\n",
       "PaymentHistory  0.000009\n",
       "Gender          0.000008\n",
       "ReferralSource  0.000006"
      ]
     },
     "metadata": {},
     "output_type": "display_data"
    }
   ],
   "source": [
    "def calculate_mi(series):\n",
    "    return mutual_info_score(series, df['Conversion (Target)'])\n",
    "\n",
    "df_mi = df[categorical].apply(calculate_mi)\n",
    "df_mi = df_mi.sort_values(ascending=False).to_frame(name='MI')\n",
    "\n",
    "\n",
    "display(df_mi)"
   ]
  },
  {
   "cell_type": "code",
   "execution_count": 20,
   "id": "09db6d79",
   "metadata": {},
   "outputs": [
    {
     "data": {
      "text/html": [
       "<div>\n",
       "<style scoped>\n",
       "    .dataframe tbody tr th:only-of-type {\n",
       "        vertical-align: middle;\n",
       "    }\n",
       "\n",
       "    .dataframe tbody tr th {\n",
       "        vertical-align: top;\n",
       "    }\n",
       "\n",
       "    .dataframe thead th {\n",
       "        text-align: right;\n",
       "    }\n",
       "</style>\n",
       "<table border=\"1\" class=\"dataframe\">\n",
       "  <thead>\n",
       "    <tr style=\"text-align: right;\">\n",
       "      <th></th>\n",
       "      <th>LeadID</th>\n",
       "      <th>Age</th>\n",
       "      <th>TimeSpent (minutes)</th>\n",
       "      <th>PagesViewed</th>\n",
       "      <th>EmailSent</th>\n",
       "      <th>FormSubmissions</th>\n",
       "      <th>Downloads</th>\n",
       "      <th>CTR_ProductPage</th>\n",
       "      <th>ResponseTime (hours)</th>\n",
       "      <th>FollowUpEmails</th>\n",
       "      <th>SocialMediaEngagement</th>\n",
       "      <th>Conversion (Target)</th>\n",
       "    </tr>\n",
       "  </thead>\n",
       "  <tbody>\n",
       "    <tr>\n",
       "      <th>LeadID</th>\n",
       "      <td>1.000000</td>\n",
       "      <td>-0.000832</td>\n",
       "      <td>-0.003668</td>\n",
       "      <td>-0.001181</td>\n",
       "      <td>0.006390</td>\n",
       "      <td>-0.001460</td>\n",
       "      <td>0.003491</td>\n",
       "      <td>0.006047</td>\n",
       "      <td>-0.002441</td>\n",
       "      <td>-0.003176</td>\n",
       "      <td>-0.000058</td>\n",
       "      <td>-0.000211</td>\n",
       "    </tr>\n",
       "    <tr>\n",
       "      <th>Age</th>\n",
       "      <td>-0.000832</td>\n",
       "      <td>1.000000</td>\n",
       "      <td>-0.000617</td>\n",
       "      <td>0.004167</td>\n",
       "      <td>-0.000619</td>\n",
       "      <td>0.002805</td>\n",
       "      <td>0.005038</td>\n",
       "      <td>-0.000983</td>\n",
       "      <td>-0.003739</td>\n",
       "      <td>-0.000411</td>\n",
       "      <td>0.001539</td>\n",
       "      <td>-0.034354</td>\n",
       "    </tr>\n",
       "    <tr>\n",
       "      <th>TimeSpent (minutes)</th>\n",
       "      <td>-0.003668</td>\n",
       "      <td>-0.000617</td>\n",
       "      <td>1.000000</td>\n",
       "      <td>-0.001712</td>\n",
       "      <td>-0.001126</td>\n",
       "      <td>-0.003405</td>\n",
       "      <td>-0.002465</td>\n",
       "      <td>-0.000258</td>\n",
       "      <td>-0.002745</td>\n",
       "      <td>-0.003585</td>\n",
       "      <td>-0.001822</td>\n",
       "      <td>0.040663</td>\n",
       "    </tr>\n",
       "    <tr>\n",
       "      <th>PagesViewed</th>\n",
       "      <td>-0.001181</td>\n",
       "      <td>0.004167</td>\n",
       "      <td>-0.001712</td>\n",
       "      <td>1.000000</td>\n",
       "      <td>-0.002140</td>\n",
       "      <td>-0.000345</td>\n",
       "      <td>-0.001217</td>\n",
       "      <td>-0.000238</td>\n",
       "      <td>-0.000623</td>\n",
       "      <td>-0.001931</td>\n",
       "      <td>0.001326</td>\n",
       "      <td>0.161177</td>\n",
       "    </tr>\n",
       "    <tr>\n",
       "      <th>EmailSent</th>\n",
       "      <td>0.006390</td>\n",
       "      <td>-0.000619</td>\n",
       "      <td>-0.001126</td>\n",
       "      <td>-0.002140</td>\n",
       "      <td>1.000000</td>\n",
       "      <td>0.001707</td>\n",
       "      <td>-0.004420</td>\n",
       "      <td>0.005264</td>\n",
       "      <td>-0.002752</td>\n",
       "      <td>0.003012</td>\n",
       "      <td>-0.005056</td>\n",
       "      <td>0.065399</td>\n",
       "    </tr>\n",
       "    <tr>\n",
       "      <th>FormSubmissions</th>\n",
       "      <td>-0.001460</td>\n",
       "      <td>0.002805</td>\n",
       "      <td>-0.003405</td>\n",
       "      <td>-0.000345</td>\n",
       "      <td>0.001707</td>\n",
       "      <td>1.000000</td>\n",
       "      <td>0.004597</td>\n",
       "      <td>0.001645</td>\n",
       "      <td>0.003340</td>\n",
       "      <td>-0.005037</td>\n",
       "      <td>0.001017</td>\n",
       "      <td>0.001451</td>\n",
       "    </tr>\n",
       "    <tr>\n",
       "      <th>Downloads</th>\n",
       "      <td>0.003491</td>\n",
       "      <td>0.005038</td>\n",
       "      <td>-0.002465</td>\n",
       "      <td>-0.001217</td>\n",
       "      <td>-0.004420</td>\n",
       "      <td>0.004597</td>\n",
       "      <td>1.000000</td>\n",
       "      <td>-0.002233</td>\n",
       "      <td>-0.001267</td>\n",
       "      <td>-0.000504</td>\n",
       "      <td>0.000931</td>\n",
       "      <td>-0.000201</td>\n",
       "    </tr>\n",
       "    <tr>\n",
       "      <th>CTR_ProductPage</th>\n",
       "      <td>0.006047</td>\n",
       "      <td>-0.000983</td>\n",
       "      <td>-0.000258</td>\n",
       "      <td>-0.000238</td>\n",
       "      <td>0.005264</td>\n",
       "      <td>0.001645</td>\n",
       "      <td>-0.002233</td>\n",
       "      <td>1.000000</td>\n",
       "      <td>-0.001432</td>\n",
       "      <td>-0.001162</td>\n",
       "      <td>-0.003040</td>\n",
       "      <td>0.001883</td>\n",
       "    </tr>\n",
       "    <tr>\n",
       "      <th>ResponseTime (hours)</th>\n",
       "      <td>-0.002441</td>\n",
       "      <td>-0.003739</td>\n",
       "      <td>-0.002745</td>\n",
       "      <td>-0.000623</td>\n",
       "      <td>-0.002752</td>\n",
       "      <td>0.003340</td>\n",
       "      <td>-0.001267</td>\n",
       "      <td>-0.001432</td>\n",
       "      <td>1.000000</td>\n",
       "      <td>0.000498</td>\n",
       "      <td>-0.000777</td>\n",
       "      <td>-0.002958</td>\n",
       "    </tr>\n",
       "    <tr>\n",
       "      <th>FollowUpEmails</th>\n",
       "      <td>-0.003176</td>\n",
       "      <td>-0.000411</td>\n",
       "      <td>-0.003585</td>\n",
       "      <td>-0.001931</td>\n",
       "      <td>0.003012</td>\n",
       "      <td>-0.005037</td>\n",
       "      <td>-0.000504</td>\n",
       "      <td>-0.001162</td>\n",
       "      <td>0.000498</td>\n",
       "      <td>1.000000</td>\n",
       "      <td>-0.000265</td>\n",
       "      <td>0.043651</td>\n",
       "    </tr>\n",
       "    <tr>\n",
       "      <th>SocialMediaEngagement</th>\n",
       "      <td>-0.000058</td>\n",
       "      <td>0.001539</td>\n",
       "      <td>-0.001822</td>\n",
       "      <td>0.001326</td>\n",
       "      <td>-0.005056</td>\n",
       "      <td>0.001017</td>\n",
       "      <td>0.000931</td>\n",
       "      <td>-0.003040</td>\n",
       "      <td>-0.000777</td>\n",
       "      <td>-0.000265</td>\n",
       "      <td>1.000000</td>\n",
       "      <td>0.001734</td>\n",
       "    </tr>\n",
       "    <tr>\n",
       "      <th>Conversion (Target)</th>\n",
       "      <td>-0.000211</td>\n",
       "      <td>-0.034354</td>\n",
       "      <td>0.040663</td>\n",
       "      <td>0.161177</td>\n",
       "      <td>0.065399</td>\n",
       "      <td>0.001451</td>\n",
       "      <td>-0.000201</td>\n",
       "      <td>0.001883</td>\n",
       "      <td>-0.002958</td>\n",
       "      <td>0.043651</td>\n",
       "      <td>0.001734</td>\n",
       "      <td>1.000000</td>\n",
       "    </tr>\n",
       "  </tbody>\n",
       "</table>\n",
       "</div>"
      ],
      "text/plain": [
       "                         LeadID       Age  TimeSpent (minutes)  PagesViewed  \\\n",
       "LeadID                 1.000000 -0.000832            -0.003668    -0.001181   \n",
       "Age                   -0.000832  1.000000            -0.000617     0.004167   \n",
       "TimeSpent (minutes)   -0.003668 -0.000617             1.000000    -0.001712   \n",
       "PagesViewed           -0.001181  0.004167            -0.001712     1.000000   \n",
       "EmailSent              0.006390 -0.000619            -0.001126    -0.002140   \n",
       "FormSubmissions       -0.001460  0.002805            -0.003405    -0.000345   \n",
       "Downloads              0.003491  0.005038            -0.002465    -0.001217   \n",
       "CTR_ProductPage        0.006047 -0.000983            -0.000258    -0.000238   \n",
       "ResponseTime (hours)  -0.002441 -0.003739            -0.002745    -0.000623   \n",
       "FollowUpEmails        -0.003176 -0.000411            -0.003585    -0.001931   \n",
       "SocialMediaEngagement -0.000058  0.001539            -0.001822     0.001326   \n",
       "Conversion (Target)   -0.000211 -0.034354             0.040663     0.161177   \n",
       "\n",
       "                       EmailSent  FormSubmissions  Downloads  CTR_ProductPage  \\\n",
       "LeadID                  0.006390        -0.001460   0.003491         0.006047   \n",
       "Age                    -0.000619         0.002805   0.005038        -0.000983   \n",
       "TimeSpent (minutes)    -0.001126        -0.003405  -0.002465        -0.000258   \n",
       "PagesViewed            -0.002140        -0.000345  -0.001217        -0.000238   \n",
       "EmailSent               1.000000         0.001707  -0.004420         0.005264   \n",
       "FormSubmissions         0.001707         1.000000   0.004597         0.001645   \n",
       "Downloads              -0.004420         0.004597   1.000000        -0.002233   \n",
       "CTR_ProductPage         0.005264         0.001645  -0.002233         1.000000   \n",
       "ResponseTime (hours)   -0.002752         0.003340  -0.001267        -0.001432   \n",
       "FollowUpEmails          0.003012        -0.005037  -0.000504        -0.001162   \n",
       "SocialMediaEngagement  -0.005056         0.001017   0.000931        -0.003040   \n",
       "Conversion (Target)     0.065399         0.001451  -0.000201         0.001883   \n",
       "\n",
       "                       ResponseTime (hours)  FollowUpEmails  \\\n",
       "LeadID                            -0.002441       -0.003176   \n",
       "Age                               -0.003739       -0.000411   \n",
       "TimeSpent (minutes)               -0.002745       -0.003585   \n",
       "PagesViewed                       -0.000623       -0.001931   \n",
       "EmailSent                         -0.002752        0.003012   \n",
       "FormSubmissions                    0.003340       -0.005037   \n",
       "Downloads                         -0.001267       -0.000504   \n",
       "CTR_ProductPage                   -0.001432       -0.001162   \n",
       "ResponseTime (hours)               1.000000        0.000498   \n",
       "FollowUpEmails                     0.000498        1.000000   \n",
       "SocialMediaEngagement             -0.000777       -0.000265   \n",
       "Conversion (Target)               -0.002958        0.043651   \n",
       "\n",
       "                       SocialMediaEngagement  Conversion (Target)  \n",
       "LeadID                             -0.000058            -0.000211  \n",
       "Age                                 0.001539            -0.034354  \n",
       "TimeSpent (minutes)                -0.001822             0.040663  \n",
       "PagesViewed                         0.001326             0.161177  \n",
       "EmailSent                          -0.005056             0.065399  \n",
       "FormSubmissions                     0.001017             0.001451  \n",
       "Downloads                           0.000931            -0.000201  \n",
       "CTR_ProductPage                    -0.003040             0.001883  \n",
       "ResponseTime (hours)               -0.000777            -0.002958  \n",
       "FollowUpEmails                     -0.000265             0.043651  \n",
       "SocialMediaEngagement               1.000000             0.001734  \n",
       "Conversion (Target)                 0.001734             1.000000  "
      ]
     },
     "execution_count": 20,
     "metadata": {},
     "output_type": "execute_result"
    }
   ],
   "source": [
    "df.corr()"
   ]
  },
  {
   "cell_type": "code",
   "execution_count": 56,
   "id": "f4c71e56",
   "metadata": {},
   "outputs": [
    {
     "data": {
      "text/plain": [
       "Text(0.5, 1.0, 'Full traind dataset correlation matrix')"
      ]
     },
     "execution_count": 56,
     "metadata": {},
     "output_type": "execute_result"
    },
    {
     "data": {
      "image/png": "[encoded data removed]",
      "text/plain": [
       "<Figure size 1000x700 with 2 Axes>"
      ]
     },
     "metadata": {},
     "output_type": "display_data"
    }
   ],
   "source": [
    "corr = df.corr(method = \"spearman\")\n",
    "plt.figure(figsize = (10, 7))\n",
    "mask = np.zeros_like(corr)\n",
    "mask[np.triu_indices_from(mask)] = True\n",
    "sns.heatmap(corr, mask=mask, cmap = \"magma\", annot = True, annot_kws = {'size': 7})\n",
    "plt.title(\"Full traind dataset correlation matrix\", fontsize = 12, fontweight = \"bold\")"
   ]
  },
  {
   "cell_type": "code",
   "execution_count": 23,
   "id": "629d0562",
   "metadata": {},
   "outputs": [],
   "source": [
    "from sklearn.model_selection import train_test_split\n",
    "from sklearn.feature_extraction import DictVectorizer\n",
    "\n",
    "df_train_full, df_test = train_test_split(df, test_size=0.2, random_state=1)\n",
    "df_train, df_val = train_test_split(df_train_full, test_size=0.25, random_state=1)\n",
    "y_train = df_train['Conversion (Target)']\n",
    "y_val = df_val['Conversion (Target)']\n",
    "y_test = df_test['Conversion (Target)']\n",
    "del df_train['Conversion (Target)']\n",
    "del df_val['Conversion (Target)']\n",
    "del df_test['Conversion (Target)']\n",
    "\n",
    "train_dict = df_train.to_dict(orient='records')\n",
    "val_dict = df_val.to_dict(orient='records')\n",
    "test_dict = df_test.to_dict(orient='records')\n",
    "dv = DictVectorizer(sparse=False)\n",
    "dv.fit(train_dict)\n",
    "X_train = dv.transform(train_dict)\n",
    "X_val = dv.transform(val_dict)"
   ]
  },
  {
   "cell_type": "code",
   "execution_count": 37,
   "id": "8e4abf89",
   "metadata": {},
   "outputs": [
    {
     "data": {
      "text/plain": [
       "0.9842641404732649"
      ]
     },
     "execution_count": 37,
     "metadata": {},
     "output_type": "execute_result"
    }
   ],
   "source": [
    "from sklearn.linear_model import LogisticRegression\n",
    "model = LogisticRegression(solver='liblinear', random_state=1)\n",
    "model.fit(X_train, y_train)\n",
    "y_pred = model.predict_proba(X_val)[:, 1]\n",
    "conv = y_pred > 0.5\n",
    "(y_val == conv).mean()"
   ]
  },
  {
   "cell_type": "code",
   "execution_count": 30,
   "id": "f83fb766",
   "metadata": {},
   "outputs": [],
   "source": [
    "from sklearn.metrics import roc_curve\n",
    "from sklearn.metrics import roc_auc_score\n",
    "from sklearn.metrics import auc\n",
    "fpr, tpr, thresholds = roc_curve(y_val, y_pred)"
   ]
  },
  {
   "cell_type": "code",
   "execution_count": 57,
   "id": "f6f527d4",
   "metadata": {},
   "outputs": [
    {
     "data": {
      "text/plain": [
       "<matplotlib.legend.Legend at 0x1d639ae5910>"
      ]
     },
     "execution_count": 57,
     "metadata": {},
     "output_type": "execute_result"
    },
    {
     "data": {
      "image/png": "[encoded data removed]",
      "text/plain": [
       "<Figure size 500x500 with 1 Axes>"
      ]
     },
     "metadata": {},
     "output_type": "display_data"
    }
   ],
   "source": [
    "plt.figure(figsize=(5, 5))\n",
    "\n",
    "plt.plot(fpr, tpr,label='Full Model')\n",
    "\n",
    "plt.xlabel('FPR')\n",
    "plt.ylabel('TPR')\n",
    "\n",
    "plt.legend()"
   ]
  },
  {
   "cell_type": "code",
   "execution_count": 32,
   "id": "f51d28b3",
   "metadata": {},
   "outputs": [
    {
     "data": {
      "text/plain": [
       "0.7356339386571972"
      ]
     },
     "execution_count": 32,
     "metadata": {},
     "output_type": "execute_result"
    }
   ],
   "source": [
    "roc_auc_score(y_val, y_pred)"
   ]
  },
  {
   "cell_type": "code",
   "execution_count": 38,
   "id": "e0c0a405",
   "metadata": {},
   "outputs": [
    {
     "data": {
      "text/plain": [
       "{'Age': -0.089,\n",
       " 'CTR_ProductPage': -0.007,\n",
       " 'DeviceType=Desktop': -0.006,\n",
       " 'DeviceType=Mobile': -0.007,\n",
       " 'DeviceType=Tablet': -0.004,\n",
       " 'Downloads': -0.023,\n",
       " 'EmailSent': 0.033,\n",
       " 'FollowUpEmails': 0.001,\n",
       " 'FormSubmissions': -0.031,\n",
       " 'Gender=Female': -0.01,\n",
       " 'Gender=Male': -0.007,\n",
       " 'LeadID': -0.0,\n",
       " 'LeadSource=Email': -0.004,\n",
       " 'LeadSource=Organic': -0.003,\n",
       " 'LeadSource=Referral': -0.006,\n",
       " 'LeadSource=Social Media': -0.004,\n",
       " 'LeadStatus=Cold': -0.015,\n",
       " 'LeadStatus=Hot': 0.014,\n",
       " 'LeadStatus=Warm': -0.016,\n",
       " 'Location=Faisalabad': -0.009,\n",
       " 'Location=Gujranwala': -0.01,\n",
       " 'Location=Islamabad': 0.015,\n",
       " 'Location=Karachi': 0.016,\n",
       " 'Location=Lahore': 0.016,\n",
       " 'Location=Multan': -0.009,\n",
       " 'Location=Peshawar': -0.009,\n",
       " 'Location=Quetta': -0.009,\n",
       " 'Location=Rawalpindi': -0.009,\n",
       " 'Location=Sialkot': -0.009,\n",
       " 'PagesViewed': 0.147,\n",
       " 'PaymentHistory=Good': -0.01,\n",
       " 'PaymentHistory=No Payment': -0.007,\n",
       " 'ReferralSource=Direct': -0.004,\n",
       " 'ReferralSource=Facebook': -0.004,\n",
       " 'ReferralSource=Google': -0.002,\n",
       " 'ReferralSource=ReferralSite': -0.003,\n",
       " 'ReferralSource=Twitter': -0.003,\n",
       " 'ResponseTime (hours)': -0.06,\n",
       " 'SocialMediaEngagement': -0.008,\n",
       " 'TimeSpent (minutes)': -0.009}"
      ]
     },
     "execution_count": 38,
     "metadata": {},
     "output_type": "execute_result"
    }
   ],
   "source": [
    "dict(zip(dv.get_feature_names_out(), model.coef_[0].round(3)))"
   ]
  },
  {
   "cell_type": "code",
   "execution_count": 39,
   "id": "e0b44a9f",
   "metadata": {},
   "outputs": [],
   "source": [
    "subset = ['Location', 'PagesViewed', 'EmailSent','LeadStatus']\n",
    "train_dict_small = df_train[subset].to_dict(orient='records')\n",
    "dv_small = DictVectorizer(sparse=False)\n",
    "dv_small.fit(train_dict_small)\n",
    "\n",
    "X_small_train = dv_small.transform(train_dict_small)\n",
    "\n",
    "model_small = LogisticRegression(solver='liblinear', random_state=1)\n",
    "model_small.fit(X_small_train, y_train)\n",
    "\n",
    "val_dict_small = df_val[subset].to_dict(orient='records')\n",
    "X_small_val = dv_small.transform(val_dict_small)\n",
    "y_pred_small = model_small.predict_proba(X_small_val)[:, 1]"
   ]
  },
  {
   "cell_type": "code",
   "execution_count": 40,
   "id": "09d7c02f",
   "metadata": {},
   "outputs": [
    {
     "data": {
      "text/plain": [
       "0.9773859682152225"
      ]
     },
     "execution_count": 40,
     "metadata": {},
     "output_type": "execute_result"
    }
   ],
   "source": [
    "roc_auc_score(y_val, y_pred_small)"
   ]
  },
  {
   "cell_type": "markdown",
   "id": "74c7be84",
   "metadata": {},
   "source": [
    "## Trees"
   ]
  },
  {
   "cell_type": "markdown",
   "id": "09e122d8",
   "metadata": {},
   "source": [
    "### Decision Tree"
   ]
  },
  {
   "cell_type": "code",
   "execution_count": 41,
   "id": "3d15f881",
   "metadata": {},
   "outputs": [
    {
     "data": {
      "text/plain": [
       "DecisionTreeClassifier()"
      ]
     },
     "execution_count": 41,
     "metadata": {},
     "output_type": "execute_result"
    }
   ],
   "source": [
    "from sklearn.tree import DecisionTreeClassifier\n",
    "dt = DecisionTreeClassifier()\n",
    "dt.fit(X_train, y_train)"
   ]
  },
  {
   "cell_type": "code",
   "execution_count": 43,
   "id": "eaa0f9aa",
   "metadata": {},
   "outputs": [
    {
     "data": {
      "text/plain": [
       "0.9935618236159081"
      ]
     },
     "execution_count": 43,
     "metadata": {},
     "output_type": "execute_result"
    }
   ],
   "source": [
    "y_pred_val_dt = dt.predict_proba(X_val)[:, 1]\n",
    "fpr_dt, tpr_dt, thresholds_dt = roc_curve(y_val, y_pred_val_dt)\n",
    "roc_auc_score(y_val, y_pred_val_dt)"
   ]
  },
  {
   "cell_type": "markdown",
   "id": "fd6472d4",
   "metadata": {},
   "source": [
    "### RandomForest"
   ]
  },
  {
   "cell_type": "code",
   "execution_count": 44,
   "id": "0e362380",
   "metadata": {},
   "outputs": [
    {
     "data": {
      "text/plain": [
       "RandomForestClassifier(n_estimators=10, n_jobs=-1, random_state=1)"
      ]
     },
     "execution_count": 44,
     "metadata": {},
     "output_type": "execute_result"
    }
   ],
   "source": [
    "from sklearn.ensemble import RandomForestClassifier\n",
    "rf = RandomForestClassifier(n_estimators=10, random_state=1, n_jobs=-1)\n",
    "rf.fit(X_train, y_train)"
   ]
  },
  {
   "cell_type": "code",
   "execution_count": 46,
   "id": "82a9c0ee",
   "metadata": {},
   "outputs": [
    {
     "data": {
      "text/plain": [
       "0.9992477407878678"
      ]
     },
     "execution_count": 46,
     "metadata": {},
     "output_type": "execute_result"
    }
   ],
   "source": [
    "y_pred_val_rf = rf.predict_proba(X_val)[:, 1]\n",
    "fpr_rf, tpr_rf, thresholds_rf = roc_curve(y_val, y_pred_val_rf)\n",
    "roc_auc_score(y_val, y_pred_val_rf)"
   ]
  },
  {
   "cell_type": "markdown",
   "id": "8e7a0fb2",
   "metadata": {},
   "source": [
    "### xGBoost"
   ]
  },
  {
   "cell_type": "code",
   "execution_count": 47,
   "id": "8dc6ed29",
   "metadata": {},
   "outputs": [],
   "source": [
    "import xgboost as xgb\n",
    "features = dv.get_feature_names_out()\n",
    "dtrain = xgb.DMatrix(X_train, label=y_train, feature_names=features)\n",
    "dval = xgb.DMatrix(X_val, label=y_val, feature_names=features)\n",
    "\n",
    "xgb_params = {\n",
    "    'eta': 0.1, \n",
    "    'max_depth': 6,\n",
    "    'min_child_weight': 1,\n",
    "    \n",
    "    'objective': 'binary:logistic',\n",
    "    'nthread': 8,\n",
    "    \n",
    "    'seed': 1,\n",
    "    'verbosity': 1,\n",
    "}\n",
    "\n",
    "model = xgb.train(xgb_params, dtrain, num_boost_round=100)"
   ]
  },
  {
   "cell_type": "code",
   "execution_count": 48,
   "id": "1846dff6",
   "metadata": {},
   "outputs": [
    {
     "data": {
      "text/plain": [
       "1.0"
      ]
     },
     "execution_count": 48,
     "metadata": {},
     "output_type": "execute_result"
    }
   ],
   "source": [
    "y_pred_xg = model.predict(dval)\n",
    "fpr_xg, tpr_xg, thresholds_xg = roc_curve(y_val, y_pred_xg)\n",
    "roc_auc_score(y_val, y_pred_xg)"
   ]
  },
  {
   "cell_type": "code",
   "execution_count": 49,
   "id": "57a78263",
   "metadata": {},
   "outputs": [
    {
     "data": {
      "text/plain": [
       "1.0000000000000002"
      ]
     },
     "execution_count": 49,
     "metadata": {},
     "output_type": "execute_result"
    }
   ],
   "source": [
    "y_train_full = df_train_full['Conversion (Target)']\n",
    "del df_train_full['Conversion (Target)']\n",
    "train_full_dict = df_train_full.to_dict(orient='records')\n",
    "dv = DictVectorizer(sparse=False)\n",
    "dv.fit(train_full_dict)\n",
    "X_train_full = dv.transform(train_full_dict)\n",
    "X_test = dv.transform(test_dict)\n",
    "\n",
    "dtrain_full = xgb.DMatrix(X_train_full, label=y_train_full, feature_names=features)\n",
    "dtest = xgb.DMatrix(X_test, label=y_test, feature_names=features)\n",
    "\n",
    "model_full = xgb.train(xgb_params, dtrain_full, num_boost_round=100)\n",
    "y_pred_test_xg = model.predict(dtest)\n",
    "roc_auc_score(y_test, y_pred_test_xg)"
   ]
  },
  {
   "cell_type": "markdown",
   "id": "67fb11c0",
   "metadata": {},
   "source": [
    "## Model Selection"
   ]
  },
  {
   "cell_type": "code",
   "execution_count": 50,
   "id": "e4c16035",
   "metadata": {},
   "outputs": [
    {
     "data": {
      "text/plain": [
       "<matplotlib.legend.Legend at 0x1d6243cee50>"
      ]
     },
     "execution_count": 50,
     "metadata": {},
     "output_type": "execute_result"
    },
    {
     "data": {
      "image/png": "[encoded data removed]",
      "text/plain": [
       "<Figure size 500x500 with 1 Axes>"
      ]
     },
     "metadata": {},
     "output_type": "display_data"
    }
   ],
   "source": [
    "fpr_small, tpr_small, thresholds_small = roc_curve(y_val, y_pred_small)\n",
    "plt.figure(figsize=(5, 5))\n",
    "\n",
    "plt.plot(fpr, tpr,label='Full Model')\n",
    "plt.plot(fpr_small, tpr_small,label='Small Model')\n",
    "plt.plot(fpr_dt, tpr_dt,label='Decision Tree Model')\n",
    "plt.plot(fpr_rf, tpr_rf,label='Random Forrest Model')\n",
    "plt.plot(fpr_xg, tpr_xg,label='xGBoost Model')\n",
    "\n",
    "plt.xlabel('FPR')\n",
    "plt.ylabel('TPR')\n",
    "\n",
    "plt.legend()"
   ]
  },
  {
   "cell_type": "code",
   "execution_count": 69,
   "id": "70041ee1",
   "metadata": {},
   "outputs": [],
   "source": [
    "from sklearn.metrics import confusion_matrix\n",
    "cm_full = confusion_matrix(y_val, y_pred > 0.5)\n",
    "cm_small = confusion_matrix(y_val, y_pred_small > 0.5)\n",
    "cm_dt = confusion_matrix(y_val, y_pred_val_dt)\n",
    "cm_rf = confusion_matrix(y_val, y_pred_val_dt)\n",
    "cm_xg = confusion_matrix(y_val, y_pred_xg > 0.5)"
   ]
  },
  {
   "cell_type": "code",
   "execution_count": 70,
   "id": "a0f6a8cc",
   "metadata": {},
   "outputs": [],
   "source": [
    "def make_confusion_matrix(cf,\n",
    "                          group_names=None,\n",
    "                          categories='auto',\n",
    "                          count=True,\n",
    "                          percent=True,\n",
    "                          cbar=True,\n",
    "                          xyticks=True,\n",
    "                          xyplotlabels=True,\n",
    "                          sum_stats=True,\n",
    "                          figsize=None,\n",
    "                          cmap='Blues',\n",
    "                          title=None):\n",
    "    '''\n",
    "    This function will make a pretty plot of an sklearn Confusion Matrix cm using a Seaborn heatmap visualization.\n",
    "\n",
    "    Arguments\n",
    "    ---------\n",
    "    cf:            confusion matrix to be passed in\n",
    "\n",
    "    group_names:   List of strings that represent the labels row by row to be shown in each square.\n",
    "\n",
    "    categories:    List of strings containing the categories to be displayed on the x,y axis. Default is 'auto'\n",
    "\n",
    "    count:         If True, show the raw number in the confusion matrix. Default is True.\n",
    "\n",
    "    normalize:     If True, show the proportions for each category. Default is True.\n",
    "\n",
    "    cbar:          If True, show the color bar. The cbar values are based off the values in the confusion matrix.\n",
    "                   Default is True.\n",
    "\n",
    "    xyticks:       If True, show x and y ticks. Default is True.\n",
    "\n",
    "    xyplotlabels:  If True, show 'True Label' and 'Predicted Label' on the figure. Default is True.\n",
    "\n",
    "    sum_stats:     If True, display summary statistics below the figure. Default is True.\n",
    "\n",
    "    figsize:       Tuple representing the figure size. Default will be the matplotlib rcParams value.\n",
    "\n",
    "    cmap:          Colormap of the values displayed from matplotlib.pyplot.cm. Default is 'Blues'\n",
    "                   See http://matplotlib.org/examples/color/colormaps_reference.html\n",
    "                   \n",
    "    title:         Title for the heatmap. Default is None.\n",
    "\n",
    "    '''\n",
    "\n",
    "\n",
    "    # CODE TO GENERATE TEXT INSIDE EACH SQUARE\n",
    "    blanks = ['' for i in range(cf.size)]\n",
    "\n",
    "    if group_names and len(group_names)==cf.size:\n",
    "        group_labels = [\"{}\\n\".format(value) for value in group_names]\n",
    "    else:\n",
    "        group_labels = blanks\n",
    "\n",
    "    if count:\n",
    "        group_counts = [\"{0:0.0f}\\n\".format(value) for value in cf.flatten()]\n",
    "    else:\n",
    "        group_counts = blanks\n",
    "\n",
    "    if percent:\n",
    "        group_percentages = [\"{0:.2%}\".format(value) for value in cf.flatten()/np.sum(cf)]\n",
    "    else:\n",
    "        group_percentages = blanks\n",
    "\n",
    "    box_labels = [f\"{v1}{v2}{v3}\".strip() for v1, v2, v3 in zip(group_labels,group_counts,group_percentages)]\n",
    "    box_labels = np.asarray(box_labels).reshape(cf.shape[0],cf.shape[1])\n",
    "\n",
    "\n",
    "    # CODE TO GENERATE SUMMARY STATISTICS & TEXT FOR SUMMARY STATS\n",
    "    if sum_stats:\n",
    "        #Accuracy is sum of diagonal divided by total observations\n",
    "        accuracy  = np.trace(cf) / float(np.sum(cf))\n",
    "\n",
    "        #if it is a binary confusion matrix, show some more stats\n",
    "        if len(cf)==2:\n",
    "            #Metrics for Binary Confusion Matrices\n",
    "            precision = cf[1,1] / sum(cf[:,1])\n",
    "            recall    = cf[1,1] / sum(cf[1,:])\n",
    "            f1_score  = 2*precision*recall / (precision + recall)\n",
    "            stats_text = \"\\n\\nAccuracy={:0.3f}\\nPrecision={:0.3f}\\nRecall={:0.3f}\\nF1 Score={:0.3f}\".format(\n",
    "                accuracy,precision,recall,f1_score)\n",
    "        else:\n",
    "            stats_text = \"\\n\\nAccuracy={:0.3f}\".format(accuracy)\n",
    "    else:\n",
    "        stats_text = \"\"\n",
    "\n",
    "\n",
    "    # SET FIGURE PARAMETERS ACCORDING TO OTHER ARGUMENTS\n",
    "    if figsize==None:\n",
    "        #Get default figure size if not set\n",
    "        figsize = plt.rcParams.get('figure.figsize')\n",
    "\n",
    "    if xyticks==False:\n",
    "        #Do not show categories if xyticks is False\n",
    "        categories=False\n",
    "\n",
    "\n",
    "    # MAKE THE HEATMAP VISUALIZATION\n",
    "    plt.figure(figsize=figsize)\n",
    "    sns.heatmap(cf,annot=box_labels,fmt=\"\",cmap=cmap,cbar=cbar,xticklabels=categories,yticklabels=categories)\n",
    "\n",
    "    if xyplotlabels:\n",
    "        plt.ylabel('True label')\n",
    "        plt.xlabel('Predicted label' + stats_text)\n",
    "    else:\n",
    "        plt.xlabel(stats_text)\n",
    "    \n",
    "    if title:\n",
    "        plt.title(title)"
   ]
  },
  {
   "cell_type": "code",
   "execution_count": 74,
   "id": "33477ea8",
   "metadata": {},
   "outputs": [
    {
     "name": "stderr",
     "output_type": "stream",
     "text": [
      "C:\\Users\\smesmgmt009\\AppData\\Local\\Temp\\ipykernel_16356\\1662457526.py:77: RuntimeWarning: invalid value encountered in longlong_scalars\n",
      "  precision = cf[1,1] / sum(cf[:,1])\n"
     ]
    },
    {
     "data": {
      "image/png": "[encoded data removed]",
      "text/plain": [
       "<Figure size 300x300 with 1 Axes>"
      ]
     },
     "metadata": {},
     "output_type": "display_data"
    },
    {
     "data": {
      "image/png": "[encoded data removed]",
      "text/plain": [
       "<Figure size 300x300 with 1 Axes>"
      ]
     },
     "metadata": {},
     "output_type": "display_data"
    },
    {
     "data": {
      "image/png": "[encoded data removed]",
      "text/plain": [
       "<Figure size 300x300 with 1 Axes>"
      ]
     },
     "metadata": {},
     "output_type": "display_data"
    },
    {
     "data": {
      "image/png": "[encoded data removed]",
      "text/plain": [
       "<Figure size 300x300 with 1 Axes>"
      ]
     },
     "metadata": {},
     "output_type": "display_data"
    },
    {
     "data": {
      "image/png": "[encoded data removed]",
      "text/plain": [
       "<Figure size 300x300 with 1 Axes>"
      ]
     },
     "metadata": {},
     "output_type": "display_data"
    }
   ],
   "source": [
    "for matrix in [cm_full, cm_small, cm_dt, cm_rf, cm_xg]:\n",
    "    make_confusion_matrix(matrix, figsize=(3,3), cbar=False)"
   ]
  },
  {
   "cell_type": "code",
   "execution_count": null,
   "id": "9581e3dd",
   "metadata": {},
   "outputs": [],
   "source": []
  }
 ],
 "metadata": {
  "kernelspec": {
   "display_name": "Python 3 (ipykernel)",
   "language": "python",
   "name": "python3"
  },
  "language_info": {
   "codemirror_mode": {
    "name": "ipython",
    "version": 3
   },
   "file_extension": ".py",
   "mimetype": "text/x-python",
   "name": "python",
   "nbconvert_exporter": "python",
   "pygments_lexer": "ipython3",
   "version": "3.9.13"
  }
 },
 "nbformat": 4,
 "nbformat_minor": 5
}
